{
 "cells": [
  {
   "cell_type": "code",
   "execution_count": 18,
   "id": "890123eb",
   "metadata": {},
   "outputs": [],
   "source": [
    "#TASK 4\n",
    "#create an image "
   ]
  },
  {
   "cell_type": "code",
   "execution_count": 19,
   "id": "b7db3b54",
   "metadata": {},
   "outputs": [],
   "source": [
    "import cv2\n",
    "import numpy as np"
   ]
  },
  {
   "cell_type": "code",
   "execution_count": 20,
   "id": "f29b2d00",
   "metadata": {},
   "outputs": [],
   "source": [
    "c = np.zeros((700,700,3))\n",
    "\n",
    "img=cv2.circle(c, (350,350), 200, [0,255,255], -1)\n",
    "\n",
    "\n",
    "cv2.line(img, (350, 20), (350, 180), (0, 20, 200), 10)\n",
    "cv2.line(img, (20, 350), (180, 350), (0, 20, 200), 10)\n",
    "cv2.line(img, (202, 220), (100, 160), (0, 20, 200), 10)\n",
    "cv2.line(img, (202, 480), (100, 540), (0, 20, 200), 10)\n",
    "\n",
    "cv2.line(img, (350, 680), (350, 520), (0, 20, 200), 10)\n",
    "cv2.line(img, (680, 350), (520, 350), (0, 20, 200), 10)\n",
    "cv2.line(img, (498, 220), (600, 160), (0, 20, 200), 10)\n",
    "cv2.line(img, (498, 480), (600, 540), (0, 20, 200), 10)\n",
    "\n",
    "eye1=cv2.circle(c, (260,270), 50, [0,0,210],-1)\n",
    "eye2=cv2.circle(c, (420,270), 50, [0,0,210],-1)\n",
    "iris1=cv2.circle(c, (275,240), 15, [1,1,1],-1)\n",
    "iris2=cv2.circle(c, (435,240), 15, [1,1,1],-1)\n",
    "cv2.ellipse(c,(345,425),(100,50),0,0,180,[0,0,225],-1)\n",
    "\n",
    "cv2.imshow(\"DISPLAY\",img)\n",
    "cv2.waitKey()\n",
    "cv2.destroyAllWindows()"
   ]
  },
  {
   "cell_type": "code",
   "execution_count": 21,
   "id": "2fb1ad06",
   "metadata": {},
   "outputs": [],
   "source": [
    "#Take 2 image and combine it to form single image. For example collage "
   ]
  },
  {
   "cell_type": "code",
   "execution_count": 22,
   "id": "5c34204f",
   "metadata": {},
   "outputs": [],
   "source": [
    "import numpy\n",
    "import cv2"
   ]
  },
  {
   "cell_type": "code",
   "execution_count": 23,
   "id": "ef44846d",
   "metadata": {},
   "outputs": [],
   "source": [
    "image1 = cv2.resize(cv2.imread(\"oggy.png\"),(300,300))\n",
    "image2 = cv2.resize(cv2.imread(\"cockroach.jpg\"),(300,300))"
   ]
  },
  {
   "cell_type": "code",
   "execution_count": null,
   "id": "975ff345",
   "metadata": {},
   "outputs": [],
   "source": [
    "cv2.imshow(\"oggy\",image1)\n",
    "cv2.waitKey()\n",
    "cv2.destroyAllWindows()"
   ]
  },
  {
   "cell_type": "code",
   "execution_count": 8,
   "id": "10c99495",
   "metadata": {},
   "outputs": [],
   "source": [
    "cv2.imshow(\"cockroach\",image2)\n",
    "cv2.waitKey()\n",
    "cv2.destroyAllWindows()"
   ]
  },
  {
   "cell_type": "code",
   "execution_count": 9,
   "id": "46a572e5",
   "metadata": {},
   "outputs": [],
   "source": [
    "image1 = cv2.resize(cv2.imread(\"oggy.png\"),(300,300))\n",
    "image2 = cv2.resize(cv2.imread(\"cockroach.jpg\"),(300,300))"
   ]
  },
  {
   "cell_type": "code",
   "execution_count": 10,
   "id": "693285b9",
   "metadata": {},
   "outputs": [],
   "source": [
    "image3=numpy.hstack((image1,image2))\n",
    "cv2.imshow(\"task 4.2\",image3)\n",
    "cv2.waitKey()\n",
    "cv2.destroyAllWindows()"
   ]
  },
  {
   "cell_type": "code",
   "execution_count": 11,
   "id": "9721873a",
   "metadata": {},
   "outputs": [],
   "source": [
    "image4=numpy.vstack((image1,image2))\n",
    "cv2.imshow(\"task 4.2\",image4)\n",
    "cv2.waitKey()\n",
    "cv2.destroyAllWindows()"
   ]
  },
  {
   "cell_type": "code",
   "execution_count": 12,
   "id": "660fb199",
   "metadata": {},
   "outputs": [],
   "source": [
    "#Take 2 image crop some part of both image and swap it."
   ]
  },
  {
   "cell_type": "code",
   "execution_count": 13,
   "id": "65ae863b",
   "metadata": {},
   "outputs": [],
   "source": [
    "i1 = cv2.resize(cv2.imread(\"raquel1.jpg\"),(300,440))\n",
    "i2 = cv2.resize(cv2.imread(\"moneyheist1.png\"),(300,440))\n",
    "i3 = cv2.resize(cv2.imread(\"raquel1.jpg\"),(300,440))"
   ]
  },
  {
   "cell_type": "code",
   "execution_count": 14,
   "id": "d1e218c5",
   "metadata": {},
   "outputs": [],
   "source": [
    "cv2.imshow(\"raquel1\",i1)\n",
    "cv2.waitKey()\n",
    "cv2.destroyAllWindows()"
   ]
  },
  {
   "cell_type": "code",
   "execution_count": 15,
   "id": "f75f7e59",
   "metadata": {},
   "outputs": [],
   "source": [
    "cv2.imshow(\"moneyheist1\",i2)\n",
    "cv2.waitKey()\n",
    "cv2.destroyAllWindows()"
   ]
  },
  {
   "cell_type": "code",
   "execution_count": 16,
   "id": "e0abbef9",
   "metadata": {},
   "outputs": [],
   "source": [
    "crop2=i2[50:300,85:210]\n",
    "i1[50:300,85:210]=crop2\n",
    "cv2.imshow(\"task 4.2\",i1)\n",
    "cv2.waitKey()\n",
    "cv2.destroyAllWindows()"
   ]
  },
  {
   "cell_type": "code",
   "execution_count": 17,
   "id": "ecfa325f",
   "metadata": {},
   "outputs": [],
   "source": [
    "crop1=i3[50:300,85:210]\n",
    "i2[50:300,85:210]=crop1\n",
    "cv2.imshow(\"task 4.2\",i2)\n",
    "cv2.waitKey()\n",
    "cv2.destroyAllWindows()"
   ]
  },
  {
   "cell_type": "code",
   "execution_count": null,
   "id": "fe751b36",
   "metadata": {},
   "outputs": [],
   "source": []
  }
 ],
 "metadata": {
  "kernelspec": {
   "display_name": "Python 3",
   "language": "python",
   "name": "python3"
  },
  "language_info": {
   "codemirror_mode": {
    "name": "ipython",
    "version": 3
   },
   "file_extension": ".py",
   "mimetype": "text/x-python",
   "name": "python",
   "nbconvert_exporter": "python",
   "pygments_lexer": "ipython3",
   "version": "3.8.8"
  }
 },
 "nbformat": 4,
 "nbformat_minor": 5
}
